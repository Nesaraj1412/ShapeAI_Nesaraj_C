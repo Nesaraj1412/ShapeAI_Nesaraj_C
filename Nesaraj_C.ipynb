{
  "nbformat": 4,
  "nbformat_minor": 0,
  "metadata": {
    "colab": {
      "name": "Nesaraj C.ipynb",
      "provenance": []
    },
    "kernelspec": {
      "name": "python3",
      "display_name": "Python 3"
    },
    "language_info": {
      "name": "python"
    }
  },
  "cells": [
    {
      "cell_type": "code",
      "metadata": {
        "id": "-0eSo3vL9CFh"
      },
      "source": [
        "from keras.datasets import mnist\n",
        "\n",
        "data = mnist.load_data()"
      ],
      "execution_count": null,
      "outputs": []
    },
    {
      "cell_type": "markdown",
      "metadata": {
        "id": "N0CSexDJ9CW0"
      },
      "source": [
        "Downloading data from https://storage.googleapis.com/tensorflow?[link text](https:// [link text](https://))tf-keras-databsets/mnist.npz 11493376/11490434 [==============================]-0s 0us/step"
      ]
    },
    {
      "cell_type": "code",
      "metadata": {
        "id": "AGTRjVxF9Opw"
      },
      "source": [
        "((X_train, y_train)(X_test, y_test)) = data"
      ],
      "execution_count": null,
      "outputs": []
    },
    {
      "cell_type": "code",
      "metadata": {
        "id": "Wi-L0lPv9OtB"
      },
      "source": [
        "X_train = X_train.reshape((X_train.shape[0], 28*28)).astype('float32')\n",
        "X_test = X_test.reshape((X_test.shape[0] 28*28)).astype('float32')"
      ],
      "execution_count": null,
      "outputs": []
    },
    {
      "cell_type": "code",
      "metadata": {
        "id": "QnJK8Uwd9c8S"
      },
      "source": [
        "X_tain = X_train / 255\n",
        "X_test = X_test / 255"
      ],
      "execution_count": null,
      "outputs": []
    },
    {
      "cell_type": "code",
      "metadata": {
        "id": "9gGzCfBy9dST"
      },
      "source": [
        "from keras utils import np_utils\n",
        "print(y_test.shape)\n",
        "\n",
        "y_train = np.utils.to_categorical(y_train)\n",
        "y_test = np_utils.to_categorical(y_test)\n",
        "\n",
        "num_classes = y_test.shape[1]\n",
        "print(y_test.shape)"
      ],
      "execution_count": null,
      "outputs": []
    },
    {
      "cell_type": "markdown",
      "metadata": {
        "id": "7f-5FLP9-CIy"
      },
      "source": [
        "(10000,) \n",
        "(10000,10)"
      ]
    },
    {
      "cell_type": "code",
      "metadata": {
        "id": "HsUxixrP-JMx"
      },
      "source": [
        "from keras.models import sequential\n",
        "from keras.layers import dense"
      ],
      "execution_count": null,
      "outputs": []
    },
    {
      "cell_type": "code",
      "metadata": {
        "id": "NE-MqSt5-PUW"
      },
      "source": [
        "model = sequential()\n",
        "model.add(dense(32, input-din = 28*28, activation='relu'))\n",
        "model.add(dense(64, activation='relu'))\n",
        "model.add(dense(10, activation='softmax'))"
      ],
      "execution_count": null,
      "outputs": []
    },
    {
      "cell_type": "code",
      "metadata": {
        "id": "f7fJub3q-XCW"
      },
      "source": [
        "model.compile(loss='categorical_crossentropy', optimizer='adam', netrics=['accuracy'])"
      ],
      "execution_count": null,
      "outputs": []
    },
    {
      "cell_type": "code",
      "metadata": {
        "id": "LkHAGHaZ-fw8"
      },
      "source": [
        " model.summary()"
      ],
      "execution_count": null,
      "outputs": []
    },
    {
      "cell_type": "markdown",
      "metadata": {
        "id": "B5vRkags-nGd"
      },
      "source": [
        "model: \"sequentiall\"\n",
        "_____________________________________________\n",
        "Layer (type)       Output Shape    Param #\n",
        "=============================================\n",
        "dense (Dense)     (None, 32)      25120\n",
        "_____________________________________________\n",
        "dense_1 (Dense)   (None, 64)      2112\n",
        "_____________________________________________\n",
        "dense_2 (Dense)   (None, 10)      650\n",
        "=============================================\n",
        "Total params: 27,882 \n",
        "Trainable params: 27882 \n",
        "Non-trainable params: 0\n",
        "_____________________________________________\n"
      ]
    },
    {
      "cell_type": "code",
      "metadata": {
        "id": "c3siLhci_WgR"
      },
      "source": [
        "model.fit(X_train, y_train, epochs=10, batch_size=100)"
      ],
      "execution_count": null,
      "outputs": []
    },
    {
      "cell_type": "markdown",
      "metadata": {
        "id": "F4d-Tu2g_b-A"
      },
      "source": [
        "Epoch 1/10\n",
        "600/600 [==============================] - 2s 2ms/step - loss: 0.7690 - accuracy: 0.7710\n",
        "Epoch 2/10\n",
        "600/600 [==============================] - 1s 2ms/step - loss: 0.2095 - accuracy: 0.9403\n",
        "Epoch 3/10\n",
        "600/600 [==============================] - 2s 3ms/step - loss: 0.1626 - accuracy: 0.9519\n",
        "Epoch 4/10\n",
        "600/600 [==============================] - 1s 2ms/step - loss: 0.1374 - accuracy: 0.9600\n",
        "Epoch 5/10\n",
        "600/600 [==============================] - 1s 2ms/step - loss: 0.1138 - accuracy: 0.9659\n",
        "Epoch 6/10\n",
        "600/600 [==============================] - 1s 2ms/step - loss: 0.1016 - accuracy: 0.9686\n",
        "Epoch 7/10\n",
        "600/600 [==============================] - 1s 2ms/step - loss: 0.0878 - accuracy: 0.9738\n",
        "Epoch 8/10\n",
        "600/600 [==============================] - 1s 2ms/step - loss: 0.0742 - accuracy: 0.9779\n",
        "Epoch 9/10\n",
        "600/600 [==============================] - 1s 2ms/step - loss: 0.0719 - accuracy: 0.9781\n",
        "Epoch 10/10\n",
        "600/600 [==============================] - 1s 2ms/step - loss: 0.0656 - accuracy: 0.9799\n",
        "<tensorflow.python.keras.callbacks.history at 0x7fa231be4790>"
      ]
    },
    {
      "cell_type": "code",
      "metadata": {
        "id": "zpxYfTCy__k_"
      },
      "source": [
        "scores = model.evaluate(X_test, y_test)\n",
        "print(scores)"
      ],
      "execution_count": null,
      "outputs": []
    },
    {
      "cell_type": "markdown",
      "metadata": {
        "id": "_hfr20sUAH6M"
      },
      "source": [
        "313/313 [==============================] - 0s 1ms/step - loss: 0.1023 -  accuracy: 0.9688 \n",
        "[0.1023077666759491, 0.968800008969666]\n"
      ]
    }
  ]
}